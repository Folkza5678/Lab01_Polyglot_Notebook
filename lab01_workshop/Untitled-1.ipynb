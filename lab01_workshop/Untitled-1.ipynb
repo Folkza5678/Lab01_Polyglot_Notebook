{
 "cells": [
  {
   "cell_type": "markdown",
   "id": "c2eb7984",
   "metadata": {},
   "source": []
  },
  {
   "cell_type": "markdown",
   "id": "0bb174a4",
   "metadata": {},
   "source": []
  },
  {
   "cell_type": "code",
   "execution_count": null,
   "id": "1b616cad",
   "metadata": {
    "vscode": {
     "languageId": "csharp"
    }
   },
   "outputs": [],
   "source": []
  }
 ],
 "metadata": {
  "language_info": {
   "name": "python"
  }
 },
 "nbformat": 4,
 "nbformat_minor": 5
}
